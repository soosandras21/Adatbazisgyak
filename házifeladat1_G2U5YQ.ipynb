{
    "metadata": {
        "kernelspec": {
            "name": "SQL",
            "display_name": "SQL",
            "language": "sql"
        },
        "language_info": {
            "name": "sql",
            "version": ""
        }
    },
    "nbformat_minor": 2,
    "nbformat": 4,
    "cells": [
        {
            "cell_type": "code",
            "source": [
                "/*Az 5 leghosszabb helynév*/\r\n",
                "SELECT TOP 5 hely AS string, \r\n",
                "        LEN(HELY) AS string_length\r\n",
                "FROM Szallashely\r\n",
                "GROUP BY hely\r\n",
                "ORDER BY 2 DESC\r\n",
                ""
            ],
            "metadata": {
                "azdata_cell_guid": "b87f03de-4b14-42be-8c46-d426ea318e54",
                "language": "sql"
            },
            "outputs": [
                {
                    "output_type": "display_data",
                    "data": {
                        "text/html": "(5 rows affected)"
                    },
                    "metadata": {}
                },
                {
                    "output_type": "display_data",
                    "data": {
                        "text/html": "Total execution time: 00:00:00.017"
                    },
                    "metadata": {}
                },
                {
                    "output_type": "execute_result",
                    "execution_count": 46,
                    "data": {
                        "application/vnd.dataresource+json": {
                            "schema": {
                                "fields": [
                                    {
                                        "name": "string"
                                    },
                                    {
                                        "name": "string_length"
                                    }
                                ]
                            },
                            "data": [
                                {
                                    "string": "Hajdúbihar megye",
                                    "string_length": "16"
                                },
                                {
                                    "string": "Csongrád megye",
                                    "string_length": "14"
                                },
                                {
                                    "string": "Balaton-észak",
                                    "string_length": "13"
                                },
                                {
                                    "string": "Balaton-dél",
                                    "string_length": "11"
                                },
                                {
                                    "string": "Békés megye",
                                    "string_length": "11"
                                }
                            ]
                        },
                        "text/html": "<table><tr><th>string</th><th>string_length</th></tr><tr><td>Hajdúbihar megye</td><td>16</td></tr><tr><td>Csongrád megye</td><td>14</td></tr><tr><td>Balaton-észak</td><td>13</td></tr><tr><td>Balaton-dél</td><td>11</td></tr><tr><td>Békés megye</td><td>11</td></tr></table>"
                    },
                    "metadata": {}
                }
            ],
            "execution_count": 46
        },
        {
            "cell_type": "code",
            "source": [
                "/*Betűrendben az első és utolsó helynév*/\r\n",
                "SELECT MIN(hely) AS 'első', \r\n",
                "       MAX(hely) AS 'utolsó'\r\n",
                "FROM szallashely\r\n",
                "WHERE hely IS NOT NULL\r\n",
                "AND LEN(hely) > 0"
            ],
            "metadata": {
                "azdata_cell_guid": "a016193a-ac19-4574-8d7d-f5c4937a7ca1",
                "language": "sql"
            },
            "outputs": [
                {
                    "output_type": "display_data",
                    "data": {
                        "text/html": "(1 row affected)"
                    },
                    "metadata": {}
                },
                {
                    "output_type": "display_data",
                    "data": {
                        "text/html": "Total execution time: 00:00:00.016"
                    },
                    "metadata": {}
                },
                {
                    "output_type": "execute_result",
                    "execution_count": 48,
                    "data": {
                        "application/vnd.dataresource+json": {
                            "schema": {
                                "fields": [
                                    {
                                        "name": "első"
                                    },
                                    {
                                        "name": "utolsó"
                                    }
                                ]
                            },
                            "data": [
                                {
                                    "első": "Balaton-dél",
                                    "utolsó": "Tolna megye"
                                }
                            ]
                        },
                        "text/html": "<table><tr><th>első</th><th>utolsó</th></tr><tr><td>Balaton-dél</td><td>Tolna megye</td></tr></table>"
                    },
                    "metadata": {}
                }
            ],
            "execution_count": 48
        },
        {
            "cell_type": "code",
            "source": [
                "/*A helynevek hány karakterből állnak?*/\r\n",
                "SELECT MIN(LEN(HELY)) AS 'legrövidebb', \r\n",
                "       MAX(LEN(HELY)) AS 'leghosszabb', \r\n",
                "       AVG(LEN(HELY)) AS 'átlagos hossz'\r\n",
                "FROM szallashely\r\n",
                "WHERE HELY IS NOT NULL\r\n",
                "AND LEN(hely) > 0"
            ],
            "metadata": {
                "azdata_cell_guid": "611975f6-b209-4c05-ab9f-a36fdcfa0ac1",
                "language": "sql"
            },
            "outputs": [
                {
                    "output_type": "display_data",
                    "data": {
                        "text/html": "(1 row affected)"
                    },
                    "metadata": {}
                },
                {
                    "output_type": "display_data",
                    "data": {
                        "text/html": "Total execution time: 00:00:00.019"
                    },
                    "metadata": {}
                },
                {
                    "output_type": "execute_result",
                    "execution_count": 50,
                    "data": {
                        "application/vnd.dataresource+json": {
                            "schema": {
                                "fields": [
                                    {
                                        "name": "legrövidebb"
                                    },
                                    {
                                        "name": "leghosszabb"
                                    },
                                    {
                                        "name": "átlagos hossz"
                                    }
                                ]
                            },
                            "data": [
                                {
                                    "legrövidebb": "2",
                                    "leghosszabb": "16",
                                    "átlagos hossz": "10"
                                }
                            ]
                        },
                        "text/html": "<table><tr><th>legrövidebb</th><th>leghosszabb</th><th>átlagos hossz</th></tr><tr><td>2</td><td>16</td><td>10</td></tr></table>"
                    },
                    "metadata": {}
                }
            ],
            "execution_count": 50
        },
        {
            "cell_type": "code",
            "source": [
                "/* csillagok számai*/\r\n",
                "SELECT MIN(CSILLAGOK_SZAMA) AS legkevesebb, \r\n",
                "       MAX(CSILLAGOK_SZAMA) AS legtöbb, \r\n",
                "       AVG(CSILLAGOK_SZAMA) AS átlag\r\n",
                "FROM szallashely\r\n",
                "WHERE CSILLAGOK_SZAMA IS NOT NULL\r\n",
                "\r\n",
                ""
            ],
            "metadata": {
                "azdata_cell_guid": "0c2b922d-d56b-489e-9e02-1b2b0088dd97",
                "language": "sql"
            },
            "outputs": [
                {
                    "output_type": "display_data",
                    "data": {
                        "text/html": "(1 row affected)"
                    },
                    "metadata": {}
                },
                {
                    "output_type": "display_data",
                    "data": {
                        "text/html": "Total execution time: 00:00:00.020"
                    },
                    "metadata": {}
                },
                {
                    "output_type": "execute_result",
                    "execution_count": 51,
                    "data": {
                        "application/vnd.dataresource+json": {
                            "schema": {
                                "fields": [
                                    {
                                        "name": "legkevesebb"
                                    },
                                    {
                                        "name": "legtöbb"
                                    },
                                    {
                                        "name": "átlag"
                                    }
                                ]
                            },
                            "data": [
                                {
                                    "legkevesebb": "0",
                                    "legtöbb": "4",
                                    "átlag": "1"
                                }
                            ]
                        },
                        "text/html": "<table><tr><th>legkevesebb</th><th>legtöbb</th><th>átlag</th></tr><tr><td>0</td><td>4</td><td>1</td></tr></table>"
                    },
                    "metadata": {}
                }
            ],
            "execution_count": 51
        },
        {
            "cell_type": "code",
            "source": [
                "/*A leggyakoribb csillágszám*/\r\n",
                "SELECT top 1\r\n",
                "    CSILLAGOK_SZAMA AS Csillag, \r\n",
                "    COUNT(*) as 'db'\r\n",
                "from szallashely\r\n",
                "WHERE CSILLAGOK_SZAMA IS NOT null and CSILLAGOK_SZAMA <> 0\r\n",
                "GROUP BY CSILLAGOK_SZAMA\r\n",
                "ORDER BY COUNT(*) desc"
            ],
            "metadata": {
                "azdata_cell_guid": "6170cb13-4fef-44eb-a2a8-af0c6d71a813",
                "language": "sql",
                "tags": []
            },
            "outputs": [
                {
                    "output_type": "display_data",
                    "data": {
                        "text/html": "(1 row affected)"
                    },
                    "metadata": {}
                },
                {
                    "output_type": "display_data",
                    "data": {
                        "text/html": "Total execution time: 00:00:00.019"
                    },
                    "metadata": {}
                },
                {
                    "output_type": "execute_result",
                    "execution_count": 70,
                    "data": {
                        "application/vnd.dataresource+json": {
                            "schema": {
                                "fields": [
                                    {
                                        "name": "Csillag"
                                    },
                                    {
                                        "name": "db"
                                    }
                                ]
                            },
                            "data": [
                                {
                                    "Csillag": "3",
                                    "db": "8"
                                }
                            ]
                        },
                        "text/html": "<table><tr><th>Csillag</th><th>db</th></tr><tr><td>3</td><td>8</td></tr></table>"
                    },
                    "metadata": {}
                }
            ],
            "execution_count": 70
        },
        {
            "cell_type": "code",
            "source": [
                "/*csillagok eloszlása*/\r\n",
                "SELECT \r\n",
                "    CSILLAGOK_SZAMA as 'Csillagok száma',\r\n",
                "    round(COUNT(*) * 100.0 / (SELECT COUNT(*) FROM szallashely),2) AS 'Százalék'\r\n",
                "FROM \r\n",
                "    szallashely\r\n",
                "GROUP BY \r\n",
                "    CSILLAGOK_SZAMA\r\n",
                "\r\n",
                "\r\n",
                ""
            ],
            "metadata": {
                "azdata_cell_guid": "836f6cd5-fec1-404f-a837-985a31099adc",
                "language": "sql"
            },
            "outputs": [
                {
                    "output_type": "display_data",
                    "data": {
                        "text/html": "(4 rows affected)"
                    },
                    "metadata": {}
                },
                {
                    "output_type": "display_data",
                    "data": {
                        "text/html": "Total execution time: 00:00:00.015"
                    },
                    "metadata": {}
                },
                {
                    "output_type": "execute_result",
                    "metadata": {
                        "azdata_chartOptions": {
                            "type": "bar",
                            "dataDirection": "horizontal",
                            "columnsAsLabels": true,
                            "labelFirstColumn": false,
                            "legendPosition": "top"
                        }
                    },
                    "execution_count": 7,
                    "data": {
                        "application/vnd.dataresource+json": {
                            "schema": {
                                "fields": [
                                    {
                                        "name": "Csillagok száma"
                                    },
                                    {
                                        "name": "Százalék"
                                    }
                                ]
                            },
                            "data": [
                                {
                                    "Csillagok száma": "0",
                                    "Százalék": "45.450000000000"
                                },
                                {
                                    "Csillagok száma": "2",
                                    "Százalék": "4.550000000000"
                                },
                                {
                                    "Csillagok száma": "3",
                                    "Százalék": "36.360000000000"
                                },
                                {
                                    "Csillagok száma": "4",
                                    "Százalék": "13.640000000000"
                                }
                            ]
                        },
                        "text/html": [
                            "<table>",
                            "<tr><th>Csillagok száma</th><th>Százalék</th></tr>",
                            "<tr><td>0</td><td>45.450000000000</td></tr>",
                            "<tr><td>2</td><td>4.550000000000</td></tr>",
                            "<tr><td>3</td><td>36.360000000000</td></tr>",
                            "<tr><td>4</td><td>13.640000000000</td></tr>",
                            "</table>"
                        ]
                    }
                }
            ],
            "execution_count": 7
        }
    ]
}