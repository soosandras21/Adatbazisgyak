{
    "metadata": {
        "kernelspec": {
            "name": "SQL",
            "display_name": "SQL",
            "language": "sql"
        },
        "language_info": {
            "name": "sql",
            "version": ""
        }
    },
    "nbformat_minor": 2,
    "nbformat": 4,
    "cells": [
        {
            "cell_type": "code",
            "source": [
                "SELECT count(*) as 'Darab'\r\n",
                "from Foglalas\r\n",
                "where year(METTOL)=year(MEDDIG) and month(METTOL) <> month(MEDDIG)"
            ],
            "metadata": {
                "azdata_cell_guid": "6fa2e009-234a-4103-8160-b29b6b64744e",
                "language": "sql"
            },
            "outputs": [
                {
                    "output_type": "display_data",
                    "data": {
                        "text/html": "(1 row affected)"
                    },
                    "metadata": {}
                },
                {
                    "output_type": "display_data",
                    "data": {
                        "text/html": "Total execution time: 00:00:00.040"
                    },
                    "metadata": {}
                },
                {
                    "output_type": "execute_result",
                    "metadata": {},
                    "execution_count": 1,
                    "data": {
                        "application/vnd.dataresource+json": {
                            "schema": {
                                "fields": [
                                    {
                                        "name": "Darab"
                                    }
                                ]
                            },
                            "data": [
                                {
                                    "Darab": "131"
                                }
                            ]
                        },
                        "text/html": [
                            "<table>",
                            "<tr><th>Darab</th></tr>",
                            "<tr><td>131</td></tr>",
                            "</table>"
                        ]
                    }
                }
            ],
            "execution_count": 1
        },
        {
            "cell_type": "code",
            "source": [
                "SELECT szh.TIPUS, round(count(f.FOGLALAS_PK),-2)\r\n",
                " \r\n",
                "\r\n",
                "FROM Foglalas f JOIN Szoba sz on f.SZOBA_FK = sz.SZOBA_ID\r\n",
                "\r\n",
                "                JOIN Szallashely szh on sz.SZALLAS_FK=szh.SZALLAS_ID\r\n",
                "\r\n",
                "GROUP BY szh.TIPUS \r\n",
                "\r\n",
                "HAVING round(count(f.FOGLALAS_PK),-2)<500"
            ],
            "metadata": {
                "azdata_cell_guid": "f1707ef6-e01d-4d26-96ec-dc8fb695906b",
                "language": "sql",
                "tags": []
            },
            "outputs": [
                {
                    "output_type": "display_data",
                    "data": {
                        "text/html": "(3 rows affected)"
                    },
                    "metadata": {}
                },
                {
                    "output_type": "display_data",
                    "data": {
                        "text/html": "Total execution time: 00:00:00.018"
                    },
                    "metadata": {}
                },
                {
                    "output_type": "execute_result",
                    "metadata": {},
                    "execution_count": 2,
                    "data": {
                        "application/vnd.dataresource+json": {
                            "schema": {
                                "fields": [
                                    {
                                        "name": "TIPUS"
                                    },
                                    {
                                        "name": "(No column name)"
                                    }
                                ]
                            },
                            "data": [
                                {
                                    "TIPUS": "Apartman",
                                    "(No column name)": "100"
                                },
                                {
                                    "TIPUS": "vendégház",
                                    "(No column name)": "100"
                                },
                                {
                                    "TIPUS": "panzió",
                                    "(No column name)": "200"
                                }
                            ]
                        },
                        "text/html": [
                            "<table>",
                            "<tr><th>TIPUS</th><th>(No column name)</th></tr>",
                            "<tr><td>Apartman</td><td>100</td></tr>",
                            "<tr><td>vendégház</td><td>100</td></tr>",
                            "<tr><td>panzió</td><td>200</td></tr>",
                            "</table>"
                        ]
                    }
                }
            ],
            "execution_count": 2
        },
        {
            "cell_type": "code",
            "source": [
                "/*Készítsünk lekérdezést, amely megmutatja, hogy melyik szobát évente hányszor foglalták le!\r\n",
                "\r\n",
                "a. Jelenítsük meg a szobák azonosítóját, az évszámot és a foglalások számát!\r\n",
                "\r\n",
                "b. A listát szűrjük a 10 db foglalás feletti tételekre\r\n",
                "\r\n",
                "c. A listából hagyjuk ki a páros szobaszámú szobákat*/\r\n",
                "\r\n",
                "SELECT sz.SZOBA_ID, year(f.METTOL) as 'Év', count(f.FOGLALAS_PK) as 'Foglalasok szama'\r\n",
                "From Szoba sz join Foglalas f on sz.SZOBA_ID=f.SZOBA_FK\r\n",
                "Where (sz.SZOBA_ID % 2) <> 0\r\n",
                "GROUP BY sz.SZOBA_ID, year(f.METTOL)\r\n",
                "HAVING count(f.FOGLALAS_PK)>10\r\n",
                "\r\n",
                "\r\n",
                "\r\n",
                "\r\n",
                "\r\n",
                "\r\n",
                "\r\n",
                "\r\n",
                ""
            ],
            "metadata": {
                "azdata_cell_guid": "70002906-59cf-468e-b956-8d61b86ba1a9",
                "language": "sql"
            },
            "outputs": [
                {
                    "output_type": "display_data",
                    "data": {
                        "text/html": "(0 rows affected)"
                    },
                    "metadata": {}
                },
                {
                    "output_type": "display_data",
                    "data": {
                        "text/html": "Total execution time: 00:00:00.015"
                    },
                    "metadata": {}
                },
                {
                    "output_type": "execute_result",
                    "metadata": {},
                    "execution_count": 13,
                    "data": {
                        "application/vnd.dataresource+json": {
                            "schema": {
                                "fields": [
                                    {
                                        "name": "SZOBA_ID"
                                    },
                                    {
                                        "name": "Év"
                                    },
                                    {
                                        "name": "Foglalasok szama"
                                    }
                                ]
                            },
                            "data": []
                        },
                        "text/html": [
                            "<table>",
                            "<tr><th>SZOBA_ID</th><th>Év</th><th>Foglalasok szama</th></tr>",
                            "</table>"
                        ]
                    }
                }
            ],
            "execution_count": 13
        }
    ]
}